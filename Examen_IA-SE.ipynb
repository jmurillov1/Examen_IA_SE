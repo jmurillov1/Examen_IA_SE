{
 "cells": [
  {
   "cell_type": "code",
   "execution_count": 1,
   "metadata": {},
   "outputs": [],
   "source": [
    "from neo4j import GraphDatabase\n",
    "\n",
    "class Persona:\n",
    "    def __init__(self,nombre,apellido,correo):\n",
    "        self.nombre=nombre\n",
    "        self.apellido=apellido\n",
    "        self.correo=correo\n",
    "\n",
    "def get_ed(tx):\n",
    "    comunidad = []\n",
    "    result = tx.run(\"MATCH (n) RETURN n\")\n",
    "    for record in result:\n",
    "        comunidad.append(record[\"n\"])\n",
    "    return comunidad\n",
    "        \n",
    "def obtenerPersonas():\n",
    "    text =\"\"\n",
    "    uri = \"bolt://35.239.4.175:7687\"\n",
    "    driver = GraphDatabase.driver(uri, auth=(\"neo4j\", \"neo4j\"),encrypted=False)\n",
    "    with driver.session() as session:\n",
    "        comunidad = session.read_transaction(get_ed)\n",
    "        for i in range(len(comunidad)):\n",
    "            #print(comunidad[i].labels)\n",
    "            text+=comunidad[i][\"nombre\"]+\" \"+comunidad[i][\"correo\"]+\"\\n\"\n",
    "            #print(comunidad[i][\"name\"],\" -> \",comunidad[i][\"apellido\"],\" -> \", comunidad[i][\"edad\"])\n",
    "    driver.close()\n",
    "    return text\n",
    "\n",
    "def guardarPersona(per):\n",
    "    uri = \"bolt://35.239.4.175:7687\"\n",
    "    driver = GraphDatabase.driver(uri, auth=(\"neo4j\", \"neo4j\"),encrypted=False)\n",
    "    with driver.session() as session:\n",
    "        session.write_transaction(guardar, per)\n",
    "\n",
    "def guardar(tx, per):\n",
    "    result = tx.run(\"CREATE (p:Persona) \"\n",
    "                    \"SET p.nombre = $nombre \"\n",
    "                    \"SET p.apellido = $apellido \"\n",
    "                    \"SET p.correo = $correo \", nombre=per.nombre, apellido=per.apellido, correo=per.correo)"
   ]
  },
  {
   "cell_type": "code",
   "execution_count": 2,
   "metadata": {},
   "outputs": [],
   "source": [
    "from clips import Environment, Symbol\n",
    "def insertar(res,environment):\n",
    "    fs1 = '(confirmacionp ' + str(res[0]) + ' )'\n",
    "    fs2 = '(confirmacionm ' + str(res[1]) + ' )'\n",
    "    fs3 = '(confirmacionr ' + str(res[2]) + ' )'\n",
    "    fact1 = environment.assert_string(fs1)\n",
    "    fact2 = environment.assert_string(fs2)\n",
    "    fact3 = environment.assert_string(fs3)\n",
    "    \n",
    "def ejecutar(res):\n",
    "    environment = Environment()\n",
    "    environment.load('examen.clp')\n",
    "    insertar(res,environment)\n",
    "    environment.run()\n",
    "    lis=[]\n",
    "    for fact in environment.facts():\n",
    "        tt = list(fact)\n",
    "        for h in tt:\n",
    "            lis.append(h)\n",
    "    environment.reset()\n",
    "    resultado = lis[len(lis)-1]\n",
    "    if(resultado==\"ralto\"):\n",
    "        return \"Se recomienda la carrera\"\n",
    "    elif(resultado==\"rmedio\"):\n",
    "        return \"Se recomienda pero debe estudiar en lo que falla\"\n",
    "    elif(resultado==\"rbajo\"):\n",
    "        return \"Si toma la carrera debera estudiar más duro\""
   ]
  },
  {
   "cell_type": "code",
   "execution_count": 3,
   "metadata": {
    "scrolled": false
   },
   "outputs": [
    {
     "name": "stdout",
     "output_type": "stream",
     "text": [
      "{'session_id': '3258341c-fe2c-4eaf-b04e-0f1efaccfd73'}\n"
     ]
    }
   ],
   "source": [
    "import json\n",
    "from ibm_watson import AssistantV2\n",
    "from ibm_cloud_sdk_core.authenticators import IAMAuthenticator\n",
    "from ibm_cloud_sdk_core.api_exception import ApiException\n",
    "from ibm_watson import LanguageTranslatorV3\n",
    "from ibm_watson import PersonalityInsightsV3\n",
    "\n",
    "authenticator = IAMAuthenticator('vh0j48-6QDFVQy6-qehepHiOX_8Dc8_3anwEFFJ-7CRr')\n",
    "language_translator = LanguageTranslatorV3(\n",
    "    version='2018-05-01',\n",
    "    authenticator=authenticator\n",
    ")\n",
    "\n",
    "language_translator.set_service_url('https://api.us-south.language-translator.watson.cloud.ibm.com/instances/590a49d1-ee08-4611-9f75-62ae74ee0d7c')\n",
    "\n",
    "authenticator = IAMAuthenticator('RzHAgFvAbd4YJn3-21N8p6YehshWsMeLdlGqa3hmSmuR')\n",
    "assistant = AssistantV2(\n",
    "    version='2020-04-01',\n",
    "    authenticator=authenticator\n",
    ")\n",
    "\n",
    "assistant.set_service_url('https://api.us-south.assistant.watson.cloud.ibm.com/instances/9276aae1-9178-4219-ac80-ec84e0124427')\n",
    "assistant.set_disable_ssl_verification(False)\n",
    "\n",
    "session = assistant.create_session( assistant_id='c4f40484-71ea-4e58-95c2-90470521dd8a').get_result()\n",
    "print(session)\n",
    "\n",
    "authenticator = IAMAuthenticator('PXtrxiU-I5ny32L3k8HPcmzwPvb4bdJFcslA3oIG-48J')\n",
    "personality_insights = PersonalityInsightsV3(\n",
    "    version='2017-10-13',\n",
    "    authenticator=authenticator\n",
    ")\n",
    "personality_insights.set_disable_ssl_verification(False)\n",
    "personality_insights.set_service_url('https://api.us-south.personality-insights.watson.cloud.ibm.com/instances/68f2775d-8ee5-422f-b4a9-7d7d01168f43')"
   ]
  },
  {
   "cell_type": "code",
   "execution_count": 4,
   "metadata": {},
   "outputs": [],
   "source": [
    "import urllib3\n",
    "def identLanguage(mensaje):\n",
    "    language = language_translator.identify(\n",
    "        mensaje).get_result()\n",
    "    r= json.dumps(language, indent=2)\n",
    "    rp= json.loads(r)\n",
    "    return rp[\"languages\"][0][\"language\"]\n",
    "\n",
    "def traducir(mensaje):\n",
    "    leng=identLanguage(mensaje)\n",
    "    print(\"LENguaje Broma ->\" ,leng)\n",
    "    if(leng == \"fr\" or leng==\"ca\" or leng==\"en\"):\n",
    "        print(\"Idioma: \",leng)\n",
    "        translation = language_translator.translate(\n",
    "        text=mensaje,\n",
    "        model_id=leng+\"-es\").get_result()\n",
    "        r= json.dumps(translation, indent=2)\n",
    "        rp= json.loads(r)\n",
    "        return rp[\"translations\"][0][\"translation\"],leng\n",
    "    else:\n",
    "        return mensaje,\"es\"\n",
    "    \n",
    "def traducir2(mensaje,leng):\n",
    "    print(\"Lenguaje +\",leng)\n",
    "    if(leng ==\"fr\" or leng==\"ca\" or leng==\"en\"):\n",
    "        print(\"IAT:\",leng)\n",
    "        translation = language_translator.translate(\n",
    "        text=mensaje,\n",
    "        model_id=\"es-\"+leng).get_result()\n",
    "        r= json.dumps(translation, indent=2)\n",
    "        rp= json.loads(r)\n",
    "        return rp[\"translations\"][0][\"translation\"]\n",
    "    else:\n",
    "        return mensaje\n",
    "\n",
    "def sendMessageIBM(mensaje):\n",
    "    print(mensaje)\n",
    "    trad=traducir(mensaje)\n",
    "    message = assistant.message('c4f40484-71ea-4e58-95c2-90470521dd8a',\n",
    "        session[\"session_id\"],\n",
    "        input={'text': trad[0]},\n",
    "        context={\n",
    "            'metadata': {\n",
    "                'deployment': 'myDeployment'\n",
    "            }\n",
    "        }).get_result()\n",
    "    r=json.dumps(message, indent=2)\n",
    "    rp=json.loads(r)\n",
    "    return traducir2(rp['output']['generic'][0]['text'],trad[1])\n",
    "def analizar(url):\n",
    "    http = urllib3.PoolManager()\n",
    "    response = http.request('GET', url)\n",
    "    res=\"\"\n",
    "    try:\n",
    "        data = response.data.decode('utf-8')\n",
    "        profile = personality_insights.profile(\n",
    "        data,\n",
    "        'application/json',\n",
    "        content_type='text/plain',\n",
    "        consumption_preferences=True,\n",
    "        content_language=identLanguage(data),\n",
    "        accept_language=\"es\",\n",
    "        raw_scores=True\n",
    "        ).get_result()\n",
    "        r=json.dumps(profile, indent=2)\n",
    "        rp=json.loads(r)\n",
    "        res+=\"PALABRAS ANALIZADAS: \"+str(rp[\"word_count\"])+\"\\n\"\n",
    "        res+=\"RESULTADOS DE PERSONALIDAD\\n\"\n",
    "        for i in rp['personality']:\n",
    "            res+=\"Personalidad: \"+i[\"name\"]+\"\\n\"\n",
    "            for j in i[\"children\"]:\n",
    "                res+=\"Característica: \"+j[\"name\"]+\" : \"+\"{}%\".format(int(round(j[\"percentile\"],2)*100))+\"\\n\"\n",
    "        res+=\"RESULTADOS DE NECESIDADES\\n\"\n",
    "        for i in rp['needs']:\n",
    "            res+=\"Necesidad: \"+i[\"name\"]+\" : \"+\"{}%\".format(int(round(i[\"percentile\"],2)*100))+\"\\n\"\n",
    "        res+=\"RESULTADOS DE VALORES\\n\"\n",
    "        for i in rp['values']:\n",
    "            res+=\"Valor: \"+i[\"name\"]+\" : \"+\"{}%\".format(int(round(i[\"percentile\"],2)*100))+\"\\n\"\n",
    "        return res\n",
    "    except UnicodeDecodeError:\n",
    "        return \"No archivo de texto\"\n",
    "    except ApiException:\n",
    "        return \"Menos de las palabras minimo 100\""
   ]
  },
  {
   "cell_type": "code",
   "execution_count": null,
   "metadata": {
    "scrolled": true
   },
   "outputs": [
    {
     "name": "stdout",
     "output_type": "stream",
     "text": [
      " * Serving Flask app \"__main__\" (lazy loading)\n",
      " * Environment: production\n",
      "   WARNING: This is a development server. Do not use it in a production deployment.\n",
      "   Use a production WSGI server instead.\n",
      " * Debug mode: off\n"
     ]
    },
    {
     "name": "stderr",
     "output_type": "stream",
     "text": [
      " * Running on http://127.0.0.1:5000/ (Press CTRL+C to quit)\n"
     ]
    },
    {
     "name": "stdout",
     "output_type": "stream",
     "text": [
      "hola\n",
      "LENguaje Broma -> es\n",
      "Lenguaje + es\n"
     ]
    },
    {
     "name": "stderr",
     "output_type": "stream",
     "text": [
      "127.0.0.1 - - [05/Aug/2020 14:03:57] \"\u001b[37mPOST / HTTP/1.1\u001b[0m\" 200 -\n",
      "127.0.0.1 - - [05/Aug/2020 14:03:58] \"\u001b[37mPOST / HTTP/1.1\u001b[0m\" 200 -\n",
      "127.0.0.1 - - [05/Aug/2020 14:03:58] \"\u001b[37mPOST / HTTP/1.1\u001b[0m\" 200 -\n"
     ]
    },
    {
     "name": "stdout",
     "output_type": "stream",
     "text": [
      "análisis\n",
      "LENguaje Broma -> hu\n",
      "Lenguaje + es\n"
     ]
    },
    {
     "name": "stderr",
     "output_type": "stream",
     "text": [
      "127.0.0.1 - - [05/Aug/2020 14:06:17] \"\u001b[37mPOST / HTTP/1.1\u001b[0m\" 200 -\n",
      "127.0.0.1 - - [05/Aug/2020 14:06:18] \"\u001b[37mPOST / HTTP/1.1\u001b[0m\" 200 -\n",
      "127.0.0.1 - - [05/Aug/2020 14:06:18] \"\u001b[37mPOST / HTTP/1.1\u001b[0m\" 200 -\n"
     ]
    },
    {
     "name": "stdout",
     "output_type": "stream",
     "text": [
      "['si', 'si', 'si']\n"
     ]
    },
    {
     "name": "stderr",
     "output_type": "stream",
     "text": [
      "127.0.0.1 - - [05/Aug/2020 14:06:27] \"\u001b[37mPOST / HTTP/1.1\u001b[0m\" 200 -\n",
      "127.0.0.1 - - [05/Aug/2020 14:06:27] \"\u001b[37mPOST / HTTP/1.1\u001b[0m\" 200 -\n",
      "127.0.0.1 - - [05/Aug/2020 14:06:27] \"\u001b[37mPOST / HTTP/1.1\u001b[0m\" 200 -\n"
     ]
    },
    {
     "name": "stdout",
     "output_type": "stream",
     "text": [
      "registro\n",
      "LENguaje Broma -> eo\n",
      "Lenguaje + es\n"
     ]
    },
    {
     "name": "stderr",
     "output_type": "stream",
     "text": [
      "127.0.0.1 - - [05/Aug/2020 14:08:21] \"\u001b[37mPOST / HTTP/1.1\u001b[0m\" 200 -\n",
      "127.0.0.1 - - [05/Aug/2020 14:08:22] \"\u001b[37mPOST / HTTP/1.1\u001b[0m\" 200 -\n",
      "127.0.0.1 - - [05/Aug/2020 14:08:22] \"\u001b[37mPOST / HTTP/1.1\u001b[0m\" 200 -\n"
     ]
    },
    {
     "name": "stdout",
     "output_type": "stream",
     "text": [
      "Jose Guamán joseg@micorreo.com\n",
      "LENguaje Broma -> es\n",
      "Lenguaje + es\n"
     ]
    },
    {
     "name": "stderr",
     "output_type": "stream",
     "text": [
      "127.0.0.1 - - [05/Aug/2020 14:08:41] \"\u001b[37mPOST / HTTP/1.1\u001b[0m\" 200 -\n",
      "127.0.0.1 - - [05/Aug/2020 14:08:41] \"\u001b[37mPOST / HTTP/1.1\u001b[0m\" 200 -\n",
      "127.0.0.1 - - [05/Aug/2020 14:08:41] \"\u001b[37mPOST / HTTP/1.1\u001b[0m\" 200 -\n"
     ]
    }
   ],
   "source": [
    "import random\n",
    "from flask import Flask, request\n",
    "from pymessenger.bot import Bot\n",
    "\n",
    "app = Flask(__name__)\n",
    "ACCESS_TOKEN = 'EAAJccYUYmiEBAMXdQjkCtkJ1RsPKuNSzZAU60IHZAwZBNiBJ7KRlGLPC1zfTjLsdQlBBQ3lZCDEYXy1aDuYZAX0pIVjZBRf0m67fZA6fNSU9gnDWF1D9GpxUM7WgcpLs45DLzQtOGQOGE55bctN6gWAGprz6sNLicmzNvIQyjb4kAZDZD'\n",
    "VERIFY_TOKEN = 'VERIFY_TOKEN'\n",
    "bot = Bot(ACCESS_TOKEN)\n",
    "\n",
    "#We will receive messages that Facebook sends our bot at this endpoint \n",
    "@app.route(\"/\", methods=['GET', 'POST'])\n",
    "def receive_message():\n",
    "    if request.method == 'GET':\n",
    "        \"\"\"Before allowing people to message your bot, Facebook has implemented a verify token\n",
    "        that confirms all requests that your bot receives came from Facebook.\"\"\" \n",
    "        token_sent = request.args.get(\"hub.verify_token\")\n",
    "        return verify_fb_token(token_sent)\n",
    "    #if the request was not get, it must be POST and we can just proceed with sending a message back to user\n",
    "    else:\n",
    "        # get whatever message a user sent the bot\n",
    "       output = request.get_json()\n",
    "       for event in output['entry']:\n",
    "          messaging = event['messaging']\n",
    "          for message in messaging:\n",
    "            if message.get('message'):\n",
    "                #Facebook Messenger ID for user so we know where to send response back to\n",
    "                recipient_id = message['sender']['id']\n",
    "                if message['message'].get('text'):\n",
    "                    text=message['message'].get('text')\n",
    "                    response_sent_text = get_message(recipient_id,text)\n",
    "                    send_message(recipient_id, response_sent_text)\n",
    "                #if user sends us a GIF, photo,video, or ny other non-text item\n",
    "                #if message['message'].get('attachments'):\n",
    "                    #archivo = message['message'].get('attachments')\n",
    "                    #tipo = archivo[0][\"type\"]\n",
    "                    #url=archivo[0][\"payload\"][\"url\"]\n",
    "                    #response_sent_nontext=\"\"\n",
    "                    #if(tipo==\"file\"):\n",
    "                    #    response_sent_nontext=analizar(url)\n",
    "                    #else:\n",
    "                    #    response_sent_nontext = \"No es un archivo de texto\"\n",
    "                    #send_message(recipient_id, response_sent_nontext)\n",
    "    return \"Message Processed\"\n",
    "\n",
    "def verify_fb_token(token_sent):\n",
    "    #take token sent by facebook and verify it matches the verify token you sent\n",
    "    #if they match, allow the request, else return an error \n",
    "    if token_sent == VERIFY_TOKEN:\n",
    "        return request.args.get(\"hub.challenge\")\n",
    "    return 'Invalid verification token'\n",
    "\n",
    "#chooses a random message to send to the user\n",
    "def get_message(rid,text):\n",
    "    res=\"\"\n",
    "    if(\"si \" in text or \"no \" in text):\n",
    "        lista = text.split(\" \")\n",
    "        print(lista)\n",
    "        send_message(rid,ejecutar(lista))\n",
    "    else:\n",
    "        res=sendMessageIBM(text)\n",
    "        if(\" \" in text and \"@\" in text):\n",
    "            per= text.split(\" \")\n",
    "            if(len(per)==3):\n",
    "                persona=Persona(per[0],per[1],per[2])\n",
    "                guardarPersona(persona)\n",
    "            else:\n",
    "                res=\"Mal proceso de registro intente nuevamente\"      \n",
    "    return res\n",
    "#uses PyMessenger to send response to user\n",
    "def send_message(recipient_id, response):\n",
    "    #sends user the text message provided via input response parameter\n",
    "    bot.send_text_message(recipient_id, response)\n",
    "    return \"success\"\n",
    "if __name__ == \"__main__\":\n",
    "    app.run()"
   ]
  },
  {
   "cell_type": "code",
   "execution_count": null,
   "metadata": {},
   "outputs": [],
   "source": []
  }
 ],
 "metadata": {
  "kernelspec": {
   "display_name": "Python 3",
   "language": "python",
   "name": "python3"
  },
  "language_info": {
   "codemirror_mode": {
    "name": "ipython",
    "version": 3
   },
   "file_extension": ".py",
   "mimetype": "text/x-python",
   "name": "python",
   "nbconvert_exporter": "python",
   "pygments_lexer": "ipython3",
   "version": "3.7.6"
  }
 },
 "nbformat": 4,
 "nbformat_minor": 4
}
